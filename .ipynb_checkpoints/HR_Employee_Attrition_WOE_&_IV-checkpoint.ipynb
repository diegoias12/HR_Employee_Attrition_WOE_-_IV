{
 "cells": [
  {
   "cell_type": "markdown",
   "metadata": {
    "colab_type": "text",
    "id": "rq3WSmocRgRi"
   },
   "source": [
    "# Librerias"
   ]
  },
  {
   "cell_type": "code",
   "execution_count": 1,
   "metadata": {
    "colab": {},
    "colab_type": "code",
    "id": "pu8cDuemdZb7"
   },
   "outputs": [],
   "source": [
    "import numpy as np\n",
    "import pandas as pd\n",
    "import statsmodels.api as sm\n",
    "from scipy.stats import zscore\n",
    "\n",
    "import matplotlib.pyplot as plt\n",
    "import seaborn as sns\n",
    "import plotly.graph_objects as go\n",
    "\n",
    "from sklearn.decomposition import PCA\n",
    "from sklearn.linear_model import LogisticRegression\n",
    "from sklearn.manifold import MDS\n",
    "from sklearn.manifold import TSNE\n",
    "from sklearn.metrics import accuracy_score\n",
    "from sklearn.metrics import confusion_matrix\n",
    "from sklearn.metrics import f1_score\n",
    "from sklearn.metrics import precision_score\n",
    "from sklearn.metrics import recall_score\n",
    "from sklearn.metrics import roc_curve\n",
    "from sklearn.metrics import roc_auc_score\n",
    "from sklearn.model_selection import GridSearchCV\n",
    "from sklearn.model_selection import train_test_split\n",
    "from sklearn.preprocessing import KBinsDiscretizer\n",
    "from sklearn.preprocessing import StandardScaler\n",
    "\n",
    "pd.set_option('display.max_columns', 500)\n",
    "pd.set_option('display.max_rows', 500)"
   ]
  },
  {
   "cell_type": "markdown",
   "metadata": {
    "colab_type": "text",
    "id": "xrUaGW10RjeO"
   },
   "source": [
    "# Lectura de datos"
   ]
  },
  {
   "cell_type": "code",
   "execution_count": 2,
   "metadata": {
    "colab": {
     "base_uri": "https://localhost:8080/",
     "height": 34
    },
    "colab_type": "code",
    "id": "WV3thN1Mde_A",
    "outputId": "feab341e-2ca4-4dd1-f427-cd6c81944281"
   },
   "outputs": [
    {
     "data": {
      "text/plain": [
       "(1470, 35)"
      ]
     },
     "execution_count": 2,
     "metadata": {},
     "output_type": "execute_result"
    }
   ],
   "source": [
    "df = pd.read_csv('ibm-hr-analytics-attrition-dataset/WA_Fn-UseC_-HR-Employee-Attrition.csv')\n",
    "df.shape"
   ]
  },
  {
   "cell_type": "code",
   "execution_count": 3,
   "metadata": {
    "colab": {
     "base_uri": "https://localhost:8080/",
     "height": 309
    },
    "colab_type": "code",
    "id": "X350KG-tdhX7",
    "outputId": "3b30cbe4-87b7-4d10-e4c6-c461cb6eeac8"
   },
   "outputs": [
    {
     "data": {
      "text/html": [
       "<div>\n",
       "<style scoped>\n",
       "    .dataframe tbody tr th:only-of-type {\n",
       "        vertical-align: middle;\n",
       "    }\n",
       "\n",
       "    .dataframe tbody tr th {\n",
       "        vertical-align: top;\n",
       "    }\n",
       "\n",
       "    .dataframe thead th {\n",
       "        text-align: right;\n",
       "    }\n",
       "</style>\n",
       "<table border=\"1\" class=\"dataframe\">\n",
       "  <thead>\n",
       "    <tr style=\"text-align: right;\">\n",
       "      <th></th>\n",
       "      <th>Age</th>\n",
       "      <th>Attrition</th>\n",
       "      <th>BusinessTravel</th>\n",
       "      <th>DailyRate</th>\n",
       "      <th>Department</th>\n",
       "      <th>DistanceFromHome</th>\n",
       "      <th>Education</th>\n",
       "      <th>EducationField</th>\n",
       "      <th>EmployeeCount</th>\n",
       "      <th>EmployeeNumber</th>\n",
       "      <th>EnvironmentSatisfaction</th>\n",
       "      <th>Gender</th>\n",
       "      <th>HourlyRate</th>\n",
       "      <th>JobInvolvement</th>\n",
       "      <th>JobLevel</th>\n",
       "      <th>JobRole</th>\n",
       "      <th>JobSatisfaction</th>\n",
       "      <th>MaritalStatus</th>\n",
       "      <th>MonthlyIncome</th>\n",
       "      <th>MonthlyRate</th>\n",
       "      <th>NumCompaniesWorked</th>\n",
       "      <th>Over18</th>\n",
       "      <th>OverTime</th>\n",
       "      <th>PercentSalaryHike</th>\n",
       "      <th>PerformanceRating</th>\n",
       "      <th>RelationshipSatisfaction</th>\n",
       "      <th>StandardHours</th>\n",
       "      <th>StockOptionLevel</th>\n",
       "      <th>TotalWorkingYears</th>\n",
       "      <th>TrainingTimesLastYear</th>\n",
       "      <th>WorkLifeBalance</th>\n",
       "      <th>YearsAtCompany</th>\n",
       "      <th>YearsInCurrentRole</th>\n",
       "      <th>YearsSinceLastPromotion</th>\n",
       "      <th>YearsWithCurrManager</th>\n",
       "    </tr>\n",
       "  </thead>\n",
       "  <tbody>\n",
       "    <tr>\n",
       "      <th>0</th>\n",
       "      <td>41</td>\n",
       "      <td>Yes</td>\n",
       "      <td>Travel_Rarely</td>\n",
       "      <td>1102</td>\n",
       "      <td>Sales</td>\n",
       "      <td>1</td>\n",
       "      <td>2</td>\n",
       "      <td>Life Sciences</td>\n",
       "      <td>1</td>\n",
       "      <td>1</td>\n",
       "      <td>2</td>\n",
       "      <td>Female</td>\n",
       "      <td>94</td>\n",
       "      <td>3</td>\n",
       "      <td>2</td>\n",
       "      <td>Sales Executive</td>\n",
       "      <td>4</td>\n",
       "      <td>Single</td>\n",
       "      <td>5993</td>\n",
       "      <td>19479</td>\n",
       "      <td>8</td>\n",
       "      <td>Y</td>\n",
       "      <td>Yes</td>\n",
       "      <td>11</td>\n",
       "      <td>3</td>\n",
       "      <td>1</td>\n",
       "      <td>80</td>\n",
       "      <td>0</td>\n",
       "      <td>8</td>\n",
       "      <td>0</td>\n",
       "      <td>1</td>\n",
       "      <td>6</td>\n",
       "      <td>4</td>\n",
       "      <td>0</td>\n",
       "      <td>5</td>\n",
       "    </tr>\n",
       "    <tr>\n",
       "      <th>1</th>\n",
       "      <td>49</td>\n",
       "      <td>No</td>\n",
       "      <td>Travel_Frequently</td>\n",
       "      <td>279</td>\n",
       "      <td>Research &amp; Development</td>\n",
       "      <td>8</td>\n",
       "      <td>1</td>\n",
       "      <td>Life Sciences</td>\n",
       "      <td>1</td>\n",
       "      <td>2</td>\n",
       "      <td>3</td>\n",
       "      <td>Male</td>\n",
       "      <td>61</td>\n",
       "      <td>2</td>\n",
       "      <td>2</td>\n",
       "      <td>Research Scientist</td>\n",
       "      <td>2</td>\n",
       "      <td>Married</td>\n",
       "      <td>5130</td>\n",
       "      <td>24907</td>\n",
       "      <td>1</td>\n",
       "      <td>Y</td>\n",
       "      <td>No</td>\n",
       "      <td>23</td>\n",
       "      <td>4</td>\n",
       "      <td>4</td>\n",
       "      <td>80</td>\n",
       "      <td>1</td>\n",
       "      <td>10</td>\n",
       "      <td>3</td>\n",
       "      <td>3</td>\n",
       "      <td>10</td>\n",
       "      <td>7</td>\n",
       "      <td>1</td>\n",
       "      <td>7</td>\n",
       "    </tr>\n",
       "    <tr>\n",
       "      <th>2</th>\n",
       "      <td>37</td>\n",
       "      <td>Yes</td>\n",
       "      <td>Travel_Rarely</td>\n",
       "      <td>1373</td>\n",
       "      <td>Research &amp; Development</td>\n",
       "      <td>2</td>\n",
       "      <td>2</td>\n",
       "      <td>Other</td>\n",
       "      <td>1</td>\n",
       "      <td>4</td>\n",
       "      <td>4</td>\n",
       "      <td>Male</td>\n",
       "      <td>92</td>\n",
       "      <td>2</td>\n",
       "      <td>1</td>\n",
       "      <td>Laboratory Technician</td>\n",
       "      <td>3</td>\n",
       "      <td>Single</td>\n",
       "      <td>2090</td>\n",
       "      <td>2396</td>\n",
       "      <td>6</td>\n",
       "      <td>Y</td>\n",
       "      <td>Yes</td>\n",
       "      <td>15</td>\n",
       "      <td>3</td>\n",
       "      <td>2</td>\n",
       "      <td>80</td>\n",
       "      <td>0</td>\n",
       "      <td>7</td>\n",
       "      <td>3</td>\n",
       "      <td>3</td>\n",
       "      <td>0</td>\n",
       "      <td>0</td>\n",
       "      <td>0</td>\n",
       "      <td>0</td>\n",
       "    </tr>\n",
       "    <tr>\n",
       "      <th>3</th>\n",
       "      <td>33</td>\n",
       "      <td>No</td>\n",
       "      <td>Travel_Frequently</td>\n",
       "      <td>1392</td>\n",
       "      <td>Research &amp; Development</td>\n",
       "      <td>3</td>\n",
       "      <td>4</td>\n",
       "      <td>Life Sciences</td>\n",
       "      <td>1</td>\n",
       "      <td>5</td>\n",
       "      <td>4</td>\n",
       "      <td>Female</td>\n",
       "      <td>56</td>\n",
       "      <td>3</td>\n",
       "      <td>1</td>\n",
       "      <td>Research Scientist</td>\n",
       "      <td>3</td>\n",
       "      <td>Married</td>\n",
       "      <td>2909</td>\n",
       "      <td>23159</td>\n",
       "      <td>1</td>\n",
       "      <td>Y</td>\n",
       "      <td>Yes</td>\n",
       "      <td>11</td>\n",
       "      <td>3</td>\n",
       "      <td>3</td>\n",
       "      <td>80</td>\n",
       "      <td>0</td>\n",
       "      <td>8</td>\n",
       "      <td>3</td>\n",
       "      <td>3</td>\n",
       "      <td>8</td>\n",
       "      <td>7</td>\n",
       "      <td>3</td>\n",
       "      <td>0</td>\n",
       "    </tr>\n",
       "    <tr>\n",
       "      <th>4</th>\n",
       "      <td>27</td>\n",
       "      <td>No</td>\n",
       "      <td>Travel_Rarely</td>\n",
       "      <td>591</td>\n",
       "      <td>Research &amp; Development</td>\n",
       "      <td>2</td>\n",
       "      <td>1</td>\n",
       "      <td>Medical</td>\n",
       "      <td>1</td>\n",
       "      <td>7</td>\n",
       "      <td>1</td>\n",
       "      <td>Male</td>\n",
       "      <td>40</td>\n",
       "      <td>3</td>\n",
       "      <td>1</td>\n",
       "      <td>Laboratory Technician</td>\n",
       "      <td>2</td>\n",
       "      <td>Married</td>\n",
       "      <td>3468</td>\n",
       "      <td>16632</td>\n",
       "      <td>9</td>\n",
       "      <td>Y</td>\n",
       "      <td>No</td>\n",
       "      <td>12</td>\n",
       "      <td>3</td>\n",
       "      <td>4</td>\n",
       "      <td>80</td>\n",
       "      <td>1</td>\n",
       "      <td>6</td>\n",
       "      <td>3</td>\n",
       "      <td>3</td>\n",
       "      <td>2</td>\n",
       "      <td>2</td>\n",
       "      <td>2</td>\n",
       "      <td>2</td>\n",
       "    </tr>\n",
       "  </tbody>\n",
       "</table>\n",
       "</div>"
      ],
      "text/plain": [
       "   Age Attrition     BusinessTravel  DailyRate              Department  \\\n",
       "0   41       Yes      Travel_Rarely       1102                   Sales   \n",
       "1   49        No  Travel_Frequently        279  Research & Development   \n",
       "2   37       Yes      Travel_Rarely       1373  Research & Development   \n",
       "3   33        No  Travel_Frequently       1392  Research & Development   \n",
       "4   27        No      Travel_Rarely        591  Research & Development   \n",
       "\n",
       "   DistanceFromHome  Education EducationField  EmployeeCount  EmployeeNumber  \\\n",
       "0                 1          2  Life Sciences              1               1   \n",
       "1                 8          1  Life Sciences              1               2   \n",
       "2                 2          2          Other              1               4   \n",
       "3                 3          4  Life Sciences              1               5   \n",
       "4                 2          1        Medical              1               7   \n",
       "\n",
       "   EnvironmentSatisfaction  Gender  HourlyRate  JobInvolvement  JobLevel  \\\n",
       "0                        2  Female          94               3         2   \n",
       "1                        3    Male          61               2         2   \n",
       "2                        4    Male          92               2         1   \n",
       "3                        4  Female          56               3         1   \n",
       "4                        1    Male          40               3         1   \n",
       "\n",
       "                 JobRole  JobSatisfaction MaritalStatus  MonthlyIncome  \\\n",
       "0        Sales Executive                4        Single           5993   \n",
       "1     Research Scientist                2       Married           5130   \n",
       "2  Laboratory Technician                3        Single           2090   \n",
       "3     Research Scientist                3       Married           2909   \n",
       "4  Laboratory Technician                2       Married           3468   \n",
       "\n",
       "   MonthlyRate  NumCompaniesWorked Over18 OverTime  PercentSalaryHike  \\\n",
       "0        19479                   8      Y      Yes                 11   \n",
       "1        24907                   1      Y       No                 23   \n",
       "2         2396                   6      Y      Yes                 15   \n",
       "3        23159                   1      Y      Yes                 11   \n",
       "4        16632                   9      Y       No                 12   \n",
       "\n",
       "   PerformanceRating  RelationshipSatisfaction  StandardHours  \\\n",
       "0                  3                         1             80   \n",
       "1                  4                         4             80   \n",
       "2                  3                         2             80   \n",
       "3                  3                         3             80   \n",
       "4                  3                         4             80   \n",
       "\n",
       "   StockOptionLevel  TotalWorkingYears  TrainingTimesLastYear  \\\n",
       "0                 0                  8                      0   \n",
       "1                 1                 10                      3   \n",
       "2                 0                  7                      3   \n",
       "3                 0                  8                      3   \n",
       "4                 1                  6                      3   \n",
       "\n",
       "   WorkLifeBalance  YearsAtCompany  YearsInCurrentRole  \\\n",
       "0                1               6                   4   \n",
       "1                3              10                   7   \n",
       "2                3               0                   0   \n",
       "3                3               8                   7   \n",
       "4                3               2                   2   \n",
       "\n",
       "   YearsSinceLastPromotion  YearsWithCurrManager  \n",
       "0                        0                     5  \n",
       "1                        1                     7  \n",
       "2                        0                     0  \n",
       "3                        3                     0  \n",
       "4                        2                     2  "
      ]
     },
     "execution_count": 3,
     "metadata": {},
     "output_type": "execute_result"
    }
   ],
   "source": [
    "df.head()"
   ]
  },
  {
   "cell_type": "markdown",
   "metadata": {
    "colab_type": "text",
    "id": "6HGWuFKXdnfM"
   },
   "source": [
    "# Limpieza e ingenieria de datos"
   ]
  },
  {
   "cell_type": "code",
   "execution_count": 4,
   "metadata": {
    "colab": {},
    "colab_type": "code",
    "id": "_HT9tS6r26dk"
   },
   "outputs": [],
   "source": [
    "df['y'] = (df.Attrition == 'Yes').astype(int)\n",
    "df.drop('Attrition', axis = 1, inplace = True)"
   ]
  },
  {
   "cell_type": "code",
   "execution_count": 5,
   "metadata": {
    "colab": {},
    "colab_type": "code",
    "id": "-TJgiOXwdlLf"
   },
   "outputs": [],
   "source": [
    "StandardHours = 80\n",
    "drop_fea = [\n",
    "  'Over18', # todos son mayores\n",
    "  'EmployeeCount', # un 1\n",
    "  'StandardHours', # un unico valor -> variable global\n",
    "  'EmployeeNumber', # id\n",
    "]\n",
    "df.drop(drop_fea, axis=1, inplace=True)"
   ]
  },
  {
   "cell_type": "code",
   "execution_count": 6,
   "metadata": {
    "colab": {},
    "colab_type": "code",
    "id": "VRb0DN_rTiCc"
   },
   "outputs": [],
   "source": [
    "num_fea = [\n",
    "  'Age',  \n",
    "  'DailyRate',\n",
    "  'DistanceFromHome',\n",
    "  'HourlyRate',\n",
    "  'MonthlyIncome', \n",
    "  'MonthlyRate',\n",
    "  'NumCompaniesWorked',\n",
    "  'PercentSalaryHike',\n",
    "  'TotalWorkingYears', \n",
    "  'TrainingTimesLastYear',\n",
    "  'YearsAtCompany', \n",
    "  'YearsInCurrentRole',\n",
    "  'YearsSinceLastPromotion', \n",
    "  'YearsWithCurrManager',\n",
    "]\n",
    "\n",
    "cat_fea = [\n",
    "  'BusinessTravel',\n",
    "  'Department',\n",
    "  'Education',\n",
    "  'EducationField',\n",
    "  'EnvironmentSatisfaction', # Escala del 1 al 5\n",
    "  'Gender',\n",
    "  'JobInvolvement', # Escala del 1 al 5\n",
    "  'JobLevel', # Escala del 1 al 5\n",
    "  'JobRole',\n",
    "  'JobSatisfaction', # Escala del 1 al 5\n",
    "  'MaritalStatus',\n",
    "  'OverTime',\n",
    "  'PerformanceRating', # Escala del 1 al 5\n",
    "  'RelationshipSatisfaction', # Escala del 1 al 5\n",
    "  'StockOptionLevel', # Escala del 0 al 3\n",
    "  'WorkLifeBalance', # Escala del 1 al 5\n",
    "]"
   ]
  },
  {
   "cell_type": "code",
   "execution_count": 7,
   "metadata": {
    "colab": {},
    "colab_type": "code",
    "id": "xMDAXc9YdqPS"
   },
   "outputs": [],
   "source": [
    "# Hay problemas cuando TotalWorkingYears o YearsAtCompany es 0, ya que se obtiene NaN\n",
    "# En caso de ser una variable potente, podriamos descartar aquellas filas con este problema \n",
    "# Representan el 0.029931972789115645 de todos los datos\n",
    "df['PercentWorkingAtCompany'] = df['YearsAtCompany'] / df['TotalWorkingYears'] * 100\n",
    "df['PercentCurrentRoleAtCompany'] = df['YearsInCurrentRole'] / df['YearsAtCompany'] * 100\n",
    "num_fea += ['PercentWorkingAtCompany', 'PercentCurrentRoleAtCompany']\n",
    "df.dropna(inplace=True)\n",
    "\n",
    "# df['Satisfaction'] = (df['EnvironmentSatisfaction'] + df['JobSatisfaction'] + df['RelationshipSatisfaction']) / 3 * 100\n",
    "# df['TotalSatisfaction'] = (df['EnvironmentSatisfaction'] + df['JobSatisfaction'] + df['RelationshipSatisfaction'] + df['JobInvolvement'] + df['JobLevel'] + df['PerformanceRating'] + df['WorkLifeBalance']) / 7 * 100\n",
    "# num_fea += ['Satisfaction', 'TotalSatisfaction']"
   ]
  },
  {
   "cell_type": "markdown",
   "metadata": {
    "colab_type": "text",
    "id": "p4UgSO62f1_W"
   },
   "source": [
    "# EDA"
   ]
  },
  {
   "cell_type": "markdown",
   "metadata": {
    "colab_type": "text",
    "id": "WePWLb6zl5cS"
   },
   "source": [
    "## Continuas / Numericas"
   ]
  },
  {
   "cell_type": "code",
   "execution_count": 8,
   "metadata": {
    "colab": {},
    "colab_type": "code",
    "id": "-aG32COqi8ms"
   },
   "outputs": [],
   "source": [
    "df[num_fea] = df[num_fea].astype(float)"
   ]
  },
  {
   "cell_type": "code",
   "execution_count": 9,
   "metadata": {
    "colab": {
     "base_uri": "https://localhost:8080/",
     "height": 356
    },
    "colab_type": "code",
    "id": "Jb2WSnRff1oz",
    "outputId": "dfce5aab-cc62-486e-f69a-dbfa2ad54ccf"
   },
   "outputs": [
    {
     "data": {
      "text/html": [
       "<div>\n",
       "<style scoped>\n",
       "    .dataframe tbody tr th:only-of-type {\n",
       "        vertical-align: middle;\n",
       "    }\n",
       "\n",
       "    .dataframe tbody tr th {\n",
       "        vertical-align: top;\n",
       "    }\n",
       "\n",
       "    .dataframe thead th {\n",
       "        text-align: right;\n",
       "    }\n",
       "</style>\n",
       "<table border=\"1\" class=\"dataframe\">\n",
       "  <thead>\n",
       "    <tr style=\"text-align: right;\">\n",
       "      <th></th>\n",
       "      <th>Age</th>\n",
       "      <th>DailyRate</th>\n",
       "      <th>DistanceFromHome</th>\n",
       "      <th>HourlyRate</th>\n",
       "      <th>MonthlyIncome</th>\n",
       "      <th>MonthlyRate</th>\n",
       "      <th>NumCompaniesWorked</th>\n",
       "      <th>PercentSalaryHike</th>\n",
       "      <th>TotalWorkingYears</th>\n",
       "      <th>TrainingTimesLastYear</th>\n",
       "      <th>YearsAtCompany</th>\n",
       "      <th>YearsInCurrentRole</th>\n",
       "      <th>YearsSinceLastPromotion</th>\n",
       "      <th>YearsWithCurrManager</th>\n",
       "      <th>PercentWorkingAtCompany</th>\n",
       "      <th>PercentCurrentRoleAtCompany</th>\n",
       "    </tr>\n",
       "  </thead>\n",
       "  <tbody>\n",
       "    <tr>\n",
       "      <th>count</th>\n",
       "      <td>1426.000000</td>\n",
       "      <td>1426.000000</td>\n",
       "      <td>1426.000000</td>\n",
       "      <td>1426.000000</td>\n",
       "      <td>1426.000000</td>\n",
       "      <td>1426.000000</td>\n",
       "      <td>1426.000000</td>\n",
       "      <td>1426.000000</td>\n",
       "      <td>1426.000000</td>\n",
       "      <td>1426.000000</td>\n",
       "      <td>1426.000000</td>\n",
       "      <td>1426.000000</td>\n",
       "      <td>1426.000000</td>\n",
       "      <td>1426.000000</td>\n",
       "      <td>1426.000000</td>\n",
       "      <td>1426.000000</td>\n",
       "    </tr>\n",
       "    <tr>\n",
       "      <th>mean</th>\n",
       "      <td>37.099579</td>\n",
       "      <td>803.467742</td>\n",
       "      <td>9.214586</td>\n",
       "      <td>65.798738</td>\n",
       "      <td>6576.658485</td>\n",
       "      <td>14312.632539</td>\n",
       "      <td>2.686536</td>\n",
       "      <td>15.201964</td>\n",
       "      <td>11.447405</td>\n",
       "      <td>2.785414</td>\n",
       "      <td>7.224404</td>\n",
       "      <td>4.359748</td>\n",
       "      <td>2.255259</td>\n",
       "      <td>4.250351</td>\n",
       "      <td>69.899647</td>\n",
       "      <td>59.606124</td>\n",
       "    </tr>\n",
       "    <tr>\n",
       "      <th>std</th>\n",
       "      <td>9.022073</td>\n",
       "      <td>402.525232</td>\n",
       "      <td>8.121807</td>\n",
       "      <td>20.339388</td>\n",
       "      <td>4723.015901</td>\n",
       "      <td>7098.463749</td>\n",
       "      <td>2.511012</td>\n",
       "      <td>3.665470</td>\n",
       "      <td>7.782326</td>\n",
       "      <td>1.283180</td>\n",
       "      <td>6.093436</td>\n",
       "      <td>3.600434</td>\n",
       "      <td>3.248437</td>\n",
       "      <td>3.547337</td>\n",
       "      <td>31.037647</td>\n",
       "      <td>32.087706</td>\n",
       "    </tr>\n",
       "    <tr>\n",
       "      <th>min</th>\n",
       "      <td>19.000000</td>\n",
       "      <td>102.000000</td>\n",
       "      <td>1.000000</td>\n",
       "      <td>30.000000</td>\n",
       "      <td>1009.000000</td>\n",
       "      <td>2094.000000</td>\n",
       "      <td>0.000000</td>\n",
       "      <td>11.000000</td>\n",
       "      <td>1.000000</td>\n",
       "      <td>0.000000</td>\n",
       "      <td>1.000000</td>\n",
       "      <td>0.000000</td>\n",
       "      <td>0.000000</td>\n",
       "      <td>0.000000</td>\n",
       "      <td>2.941176</td>\n",
       "      <td>0.000000</td>\n",
       "    </tr>\n",
       "    <tr>\n",
       "      <th>1%</th>\n",
       "      <td>20.000000</td>\n",
       "      <td>117.000000</td>\n",
       "      <td>1.000000</td>\n",
       "      <td>30.000000</td>\n",
       "      <td>1501.000000</td>\n",
       "      <td>2323.750000</td>\n",
       "      <td>0.000000</td>\n",
       "      <td>11.000000</td>\n",
       "      <td>1.000000</td>\n",
       "      <td>0.000000</td>\n",
       "      <td>1.000000</td>\n",
       "      <td>0.000000</td>\n",
       "      <td>0.000000</td>\n",
       "      <td>0.000000</td>\n",
       "      <td>5.000000</td>\n",
       "      <td>0.000000</td>\n",
       "    </tr>\n",
       "    <tr>\n",
       "      <th>5%</th>\n",
       "      <td>24.000000</td>\n",
       "      <td>163.250000</td>\n",
       "      <td>1.000000</td>\n",
       "      <td>33.000000</td>\n",
       "      <td>2132.000000</td>\n",
       "      <td>3380.750000</td>\n",
       "      <td>0.000000</td>\n",
       "      <td>11.000000</td>\n",
       "      <td>1.000000</td>\n",
       "      <td>1.000000</td>\n",
       "      <td>1.000000</td>\n",
       "      <td>0.000000</td>\n",
       "      <td>0.000000</td>\n",
       "      <td>0.000000</td>\n",
       "      <td>11.111111</td>\n",
       "      <td>0.000000</td>\n",
       "    </tr>\n",
       "    <tr>\n",
       "      <th>50%</th>\n",
       "      <td>36.000000</td>\n",
       "      <td>804.000000</td>\n",
       "      <td>7.000000</td>\n",
       "      <td>66.000000</td>\n",
       "      <td>4968.500000</td>\n",
       "      <td>14235.500000</td>\n",
       "      <td>2.000000</td>\n",
       "      <td>14.000000</td>\n",
       "      <td>10.000000</td>\n",
       "      <td>3.000000</td>\n",
       "      <td>5.000000</td>\n",
       "      <td>3.000000</td>\n",
       "      <td>1.000000</td>\n",
       "      <td>3.000000</td>\n",
       "      <td>80.000000</td>\n",
       "      <td>66.666667</td>\n",
       "    </tr>\n",
       "    <tr>\n",
       "      <th>95%</th>\n",
       "      <td>54.000000</td>\n",
       "      <td>1421.750000</td>\n",
       "      <td>26.000000</td>\n",
       "      <td>97.000000</td>\n",
       "      <td>17859.750000</td>\n",
       "      <td>25379.250000</td>\n",
       "      <td>8.000000</td>\n",
       "      <td>22.000000</td>\n",
       "      <td>28.000000</td>\n",
       "      <td>5.000000</td>\n",
       "      <td>20.000000</td>\n",
       "      <td>11.000000</td>\n",
       "      <td>9.750000</td>\n",
       "      <td>11.000000</td>\n",
       "      <td>100.000000</td>\n",
       "      <td>100.000000</td>\n",
       "    </tr>\n",
       "    <tr>\n",
       "      <th>99%</th>\n",
       "      <td>58.750000</td>\n",
       "      <td>1484.250000</td>\n",
       "      <td>29.000000</td>\n",
       "      <td>100.000000</td>\n",
       "      <td>19626.750000</td>\n",
       "      <td>26682.000000</td>\n",
       "      <td>9.000000</td>\n",
       "      <td>25.000000</td>\n",
       "      <td>35.000000</td>\n",
       "      <td>6.000000</td>\n",
       "      <td>31.000000</td>\n",
       "      <td>15.000000</td>\n",
       "      <td>14.000000</td>\n",
       "      <td>14.000000</td>\n",
       "      <td>100.000000</td>\n",
       "      <td>100.000000</td>\n",
       "    </tr>\n",
       "    <tr>\n",
       "      <th>max</th>\n",
       "      <td>60.000000</td>\n",
       "      <td>1499.000000</td>\n",
       "      <td>29.000000</td>\n",
       "      <td>100.000000</td>\n",
       "      <td>19999.000000</td>\n",
       "      <td>26999.000000</td>\n",
       "      <td>9.000000</td>\n",
       "      <td>25.000000</td>\n",
       "      <td>40.000000</td>\n",
       "      <td>6.000000</td>\n",
       "      <td>40.000000</td>\n",
       "      <td>18.000000</td>\n",
       "      <td>15.000000</td>\n",
       "      <td>17.000000</td>\n",
       "      <td>100.000000</td>\n",
       "      <td>100.000000</td>\n",
       "    </tr>\n",
       "  </tbody>\n",
       "</table>\n",
       "</div>"
      ],
      "text/plain": [
       "               Age    DailyRate  DistanceFromHome   HourlyRate  MonthlyIncome  \\\n",
       "count  1426.000000  1426.000000       1426.000000  1426.000000    1426.000000   \n",
       "mean     37.099579   803.467742          9.214586    65.798738    6576.658485   \n",
       "std       9.022073   402.525232          8.121807    20.339388    4723.015901   \n",
       "min      19.000000   102.000000          1.000000    30.000000    1009.000000   \n",
       "1%       20.000000   117.000000          1.000000    30.000000    1501.000000   \n",
       "5%       24.000000   163.250000          1.000000    33.000000    2132.000000   \n",
       "50%      36.000000   804.000000          7.000000    66.000000    4968.500000   \n",
       "95%      54.000000  1421.750000         26.000000    97.000000   17859.750000   \n",
       "99%      58.750000  1484.250000         29.000000   100.000000   19626.750000   \n",
       "max      60.000000  1499.000000         29.000000   100.000000   19999.000000   \n",
       "\n",
       "        MonthlyRate  NumCompaniesWorked  PercentSalaryHike  TotalWorkingYears  \\\n",
       "count   1426.000000         1426.000000        1426.000000        1426.000000   \n",
       "mean   14312.632539            2.686536          15.201964          11.447405   \n",
       "std     7098.463749            2.511012           3.665470           7.782326   \n",
       "min     2094.000000            0.000000          11.000000           1.000000   \n",
       "1%      2323.750000            0.000000          11.000000           1.000000   \n",
       "5%      3380.750000            0.000000          11.000000           1.000000   \n",
       "50%    14235.500000            2.000000          14.000000          10.000000   \n",
       "95%    25379.250000            8.000000          22.000000          28.000000   \n",
       "99%    26682.000000            9.000000          25.000000          35.000000   \n",
       "max    26999.000000            9.000000          25.000000          40.000000   \n",
       "\n",
       "       TrainingTimesLastYear  YearsAtCompany  YearsInCurrentRole  \\\n",
       "count            1426.000000     1426.000000         1426.000000   \n",
       "mean                2.785414        7.224404            4.359748   \n",
       "std                 1.283180        6.093436            3.600434   \n",
       "min                 0.000000        1.000000            0.000000   \n",
       "1%                  0.000000        1.000000            0.000000   \n",
       "5%                  1.000000        1.000000            0.000000   \n",
       "50%                 3.000000        5.000000            3.000000   \n",
       "95%                 5.000000       20.000000           11.000000   \n",
       "99%                 6.000000       31.000000           15.000000   \n",
       "max                 6.000000       40.000000           18.000000   \n",
       "\n",
       "       YearsSinceLastPromotion  YearsWithCurrManager  PercentWorkingAtCompany  \\\n",
       "count              1426.000000           1426.000000              1426.000000   \n",
       "mean                  2.255259              4.250351                69.899647   \n",
       "std                   3.248437              3.547337                31.037647   \n",
       "min                   0.000000              0.000000                 2.941176   \n",
       "1%                    0.000000              0.000000                 5.000000   \n",
       "5%                    0.000000              0.000000                11.111111   \n",
       "50%                   1.000000              3.000000                80.000000   \n",
       "95%                   9.750000             11.000000               100.000000   \n",
       "99%                  14.000000             14.000000               100.000000   \n",
       "max                  15.000000             17.000000               100.000000   \n",
       "\n",
       "       PercentCurrentRoleAtCompany  \n",
       "count                  1426.000000  \n",
       "mean                     59.606124  \n",
       "std                      32.087706  \n",
       "min                       0.000000  \n",
       "1%                        0.000000  \n",
       "5%                        0.000000  \n",
       "50%                      66.666667  \n",
       "95%                     100.000000  \n",
       "99%                     100.000000  \n",
       "max                     100.000000  "
      ]
     },
     "execution_count": 9,
     "metadata": {},
     "output_type": "execute_result"
    }
   ],
   "source": [
    "df[num_fea].describe(percentiles=[0.01,0.05,0.95,0.99])"
   ]
  },
  {
   "cell_type": "code",
   "execution_count": 10,
   "metadata": {
    "colab": {
     "base_uri": "https://localhost:8080/",
     "height": 34
    },
    "colab_type": "code",
    "id": "temlYfNPf1iY",
    "outputId": "62906b1a-95ea-4325-9c66-91d3148c78d6"
   },
   "outputs": [
    {
     "data": {
      "text/plain": [
       "((1343, 33), 0.9417952314165497)"
      ]
     },
     "execution_count": 10,
     "metadata": {},
     "output_type": "execute_result"
    }
   ],
   "source": [
    "# Outliers\n",
    "\n",
    "old_length = len(df)\n",
    "z_scores = zscore(df[num_fea])\n",
    "abs_z_scores = np.abs(z_scores)\n",
    "filtered_entries = (abs_z_scores < 3).all(axis=1)\n",
    "df = df[filtered_entries]\n",
    "\n",
    "df.reset_index(drop=True, inplace=True)\n",
    "df.shape, len(df) / old_length"
   ]
  },
  {
   "cell_type": "code",
   "execution_count": 11,
   "metadata": {
    "colab": {
     "base_uri": "https://localhost:8080/",
     "height": 1000
    },
    "colab_type": "code",
    "id": "AT0roNcPjsev",
    "outputId": "32f4905d-b128-4671-fe1c-20e2934c33dc"
   },
   "outputs": [
    {
     "data": {
      "image/png": "[encoded data removed]",
      "text/plain": [
       "<Figure size 1080x1080 with 18 Axes>"
      ]
     },
     "metadata": {
      "needs_background": "light"
     },
     "output_type": "display_data"
    }
   ],
   "source": [
    "n_cols = 3\n",
    "n_rows = int(np.ceil(len(num_fea) / n_cols))\n",
    "\n",
    "fig, axs = plt.subplots(n_rows, n_cols, figsize=(15, 15))\n",
    "for i in range(n_rows):\n",
    "  for j in range(n_cols):\n",
    "    index = i * n_cols + j\n",
    "    if index >= len(num_fea):\n",
    "        continue\n",
    "    feature = num_fea[index]\n",
    "    axs[i, j].hist(df[feature])\n",
    "    axs[i, j].set_title(feature)"
   ]
  },
  {
   "cell_type": "markdown",
   "metadata": {
    "colab_type": "text",
    "id": "RYOioj21l8RH"
   },
   "source": [
    "## Discretas / Categoricas"
   ]
  },
  {
   "cell_type": "code",
   "execution_count": 12,
   "metadata": {
    "colab": {},
    "colab_type": "code",
    "id": "ryCWDpgarkSL"
   },
   "outputs": [],
   "source": [
    "def normalizar_discretas(df, feature, umbral = 0.05):\n",
    "  aux = df[feature].value_counts(True).to_frame()\n",
    "  aux['x'] = np.where(aux[feature] < umbral, 'Other', aux.index)\n",
    "  if aux[aux['x'] == 'Other'][feature].sum() < umbral:\n",
    "    aux['x'].replace({'Other' : aux.index[0]}, inplace=True)\n",
    "  df[feature].replace(dict(zip(aux.index, aux.x)), inplace=True)\n",
    "  return df"
   ]
  },
  {
   "cell_type": "code",
   "execution_count": 13,
   "metadata": {
    "colab": {},
    "colab_type": "code",
    "id": "Yc5T6kWpoQZU"
   },
   "outputs": [],
   "source": [
    "for fea in cat_fea:\n",
    "  df = normalizar_discretas(df, fea)"
   ]
  },
  {
   "cell_type": "code",
   "execution_count": 14,
   "metadata": {
    "colab": {},
    "colab_type": "code",
    "id": "gfRnKZdtnvjU"
   },
   "outputs": [
    {
     "name": "stdout",
     "output_type": "stream",
     "text": [
      "Travel_Rarely        0.711095\n",
      "Travel_Frequently    0.187640\n",
      "Non-Travel           0.101266\n",
      "Name: BusinessTravel, dtype: float64\n",
      "\n",
      "Research & Development    0.699926\n",
      "Sales                     0.300074\n",
      "Name: Department, dtype: float64\n",
      "\n",
      "3    0.414743\n",
      "4    0.271780\n",
      "2    0.196575\n",
      "1    0.116902\n",
      "Name: Education, dtype: float64\n",
      "\n",
      "Life Sciences       0.412509\n",
      "Medical             0.311988\n",
      "Marketing           0.107223\n",
      "Technical Degree    0.093075\n",
      "Other               0.075205\n",
      "Name: EducationField, dtype: float64\n",
      "\n",
      "3    0.311243\n",
      "4    0.302308\n",
      "2    0.193596\n",
      "1    0.192852\n",
      "Name: EnvironmentSatisfaction, dtype: float64\n",
      "\n",
      "Male      0.600149\n",
      "Female    0.399851\n",
      "Name: Gender, dtype: float64\n",
      "\n",
      "3    0.589724\n",
      "2    0.255398\n",
      "4    0.099777\n",
      "1    0.055101\n",
      "Name: JobInvolvement, dtype: float64\n",
      "\n",
      "2    0.417722\n",
      "1    0.381981\n",
      "3    0.144453\n",
      "4    0.055845\n",
      "Name: JobLevel, dtype: float64\n",
      "\n",
      "Sales Executive              0.226359\n",
      "Research Scientist           0.209233\n",
      "Laboratory Technician        0.180938\n",
      "Other                        0.135517\n",
      "Manufacturing Director       0.102010\n",
      "Healthcare Representative    0.089352\n",
      "Sales Representative         0.056590\n",
      "Name: JobRole, dtype: float64\n",
      "\n",
      "4    0.318690\n",
      "3    0.299330\n",
      "2    0.191363\n",
      "1    0.190618\n",
      "Name: JobSatisfaction, dtype: float64\n",
      "\n",
      "Married     0.464631\n",
      "Single      0.311988\n",
      "Divorced    0.223380\n",
      "Name: MaritalStatus, dtype: float64\n",
      "\n",
      "No     0.716307\n",
      "Yes    0.283693\n",
      "Name: OverTime, dtype: float64\n",
      "\n",
      "3    0.847357\n",
      "4    0.152643\n",
      "Name: PerformanceRating, dtype: float64\n",
      "\n",
      "3    0.310499\n",
      "4    0.290395\n",
      "2    0.206999\n",
      "1    0.192107\n",
      "Name: RelationshipSatisfaction, dtype: float64\n",
      "\n",
      "0    0.423678\n",
      "1    0.408786\n",
      "2    0.109456\n",
      "3    0.058079\n",
      "Name: StockOptionLevel, dtype: float64\n",
      "\n",
      "3    0.609829\n",
      "2    0.233060\n",
      "4    0.103500\n",
      "1    0.053611\n",
      "Name: WorkLifeBalance, dtype: float64\n",
      "\n"
     ]
    }
   ],
   "source": [
    "for fea in cat_fea:\n",
    "  print(df[fea].value_counts(True))\n",
    "  print()"
   ]
  },
  {
   "cell_type": "markdown",
   "metadata": {
    "colab_type": "text",
    "id": "h-L0-u1vHGBY"
   },
   "source": [
    "# Attribute relevance\n"
   ]
  },
  {
   "cell_type": "markdown",
   "metadata": {
    "colab_type": "text",
    "id": "lQdjMTYG5uav"
   },
   "source": [
    "## Discretizar continuas"
   ]
  },
  {
   "cell_type": "code",
   "execution_count": 15,
   "metadata": {
    "colab": {
     "base_uri": "https://localhost:8080/",
     "height": 312
    },
    "colab_type": "code",
    "id": "usLzE08Mdpyp",
    "outputId": "1dcf35e2-b847-41cf-85fb-cf1ab55f26b8"
   },
   "outputs": [
    {
     "data": {
      "text/plain": [
       "Age                               41.000000\n",
       "DailyRate                       1396.000000\n",
       "DistanceFromHome                  28.000000\n",
       "HourlyRate                        70.000000\n",
       "MonthlyIncome                  18934.000000\n",
       "MonthlyRate                    24902.000000\n",
       "NumCompaniesWorked                 9.000000\n",
       "PercentSalaryHike                 14.000000\n",
       "TotalWorkingYears                 33.000000\n",
       "TrainingTimesLastYear              6.000000\n",
       "YearsAtCompany                    24.000000\n",
       "YearsInCurrentRole                15.000000\n",
       "YearsSinceLastPromotion           11.000000\n",
       "YearsWithCurrManager              14.000000\n",
       "PercentWorkingAtCompany           97.058824\n",
       "PercentCurrentRoleAtCompany      100.000000\n",
       "dtype: float64"
      ]
     },
     "execution_count": 15,
     "metadata": {},
     "output_type": "execute_result"
    }
   ],
   "source": [
    "aux = df[num_fea].describe().T['max'] - df[num_fea].describe().T['min']\n",
    "cut_features = aux[aux >= 6]\n",
    "cut_features"
   ]
  },
  {
   "cell_type": "code",
   "execution_count": 16,
   "metadata": {
    "colab": {},
    "colab_type": "code",
    "id": "z89LPYtJQjPg"
   },
   "outputs": [],
   "source": [
    "range_to_int = dict()\n",
    "int_to_range = dict()\n",
    "for fea in cut_features.index:\n",
    "  kb = KBinsDiscretizer(encode = 'ordinal', strategy = 'uniform')\n",
    "  if cut_features[fea] < 10:\n",
    "    kb.n_bins = 3\n",
    "  elif cut_features[fea] < 50:\n",
    "    kb.n_bins = 4\n",
    "  else:\n",
    "    kb.n_bins = 5\n",
    "  df[fea] = kb.fit_transform(df[[fea]])\n",
    "  ranges = ['%.2f|%.2f' % (a, b) for a, b in zip(kb.bin_edges_[0], kb.bin_edges_[0][1:])]\n",
    "  int_to_range[fea] = dict(zip(range(len(ranges)), ranges))\n",
    "  range_to_int[fea] = dict(zip(ranges, range(len(ranges))))\n",
    "  df[fea].replace(int_to_range[fea], inplace=True)"
   ]
  },
  {
   "cell_type": "markdown",
   "metadata": {
    "colab_type": "text",
    "id": "ZurngDOJhgmz"
   },
   "source": [
    "## Information value & Weight of evidence"
   ]
  },
  {
   "cell_type": "code",
   "execution_count": 17,
   "metadata": {
    "colab": {},
    "colab_type": "code",
    "id": "7xC1HVF1GChi"
   },
   "outputs": [],
   "source": [
    "def get_woe_iv(df, feature, target):\n",
    "  lst = []\n",
    "  for val in df[feature].unique():\n",
    "      lst.append({\n",
    "          'Value': val,\n",
    "          'All': len(df[df[feature] == val]),\n",
    "          'Good': len(df[(df[feature] == val) & (df[target] == 0)]),\n",
    "          'Bad': len(df[(df[feature] == val) & (df[target] == 1)])\n",
    "      })\n",
    "      \n",
    "  dset = pd.DataFrame(lst)\n",
    "  dset['Distr_Good'] = dset['Good'] / dset['Good'].sum()\n",
    "  dset['Distr_Bad'] = dset['Bad'] / dset['Bad'].sum()\n",
    "  dset['WoE'] = np.log(dset['Distr_Good'] / dset['Distr_Bad'])\n",
    "  dset = dset.replace({'WoE': {np.inf: 0, -np.inf: 0}})\n",
    "  dset['IV'] = (dset['Distr_Good'] - dset['Distr_Bad']) * dset['WoE']\n",
    "  dset = dset.sort_values(by='WoE')\n",
    "  \n",
    "  return dset"
   ]
  },
  {
   "cell_type": "markdown",
   "metadata": {
    "colab_type": "text",
    "id": "8Lf1NdI9PJe8"
   },
   "source": [
    "To find that out, you will need to take a closer look at the returned data frames for those variables which have the greatest predictive power. More precisely, look at the WoE column. Ideally, you will find negative WoE score — this is the value most churners have."
   ]
  },
  {
   "cell_type": "code",
   "execution_count": 18,
   "metadata": {
    "cellView": "code",
    "colab": {
     "base_uri": "https://localhost:8080/",
     "height": 1000
    },
    "colab_type": "code",
    "id": "bWRRCJKBHcOz",
    "outputId": "70fecb8d-2409-4182-fa40-86825e3d7f7a"
   },
   "outputs": [
    {
     "name": "stdout",
     "output_type": "stream",
     "text": [
      "BusinessTravel\n",
      "               Value  All  Good  Bad  Distr_Good  Distr_Bad       WoE  \\\n",
      "1  Travel_Frequently  252   192   60    0.169912   0.281690 -0.505530   \n",
      "0      Travel_Rarely  955   813  142    0.719469   0.666667  0.076223   \n",
      "2         Non-Travel  136   125   11    0.110619   0.051643  0.761738   \n",
      "\n",
      "         IV  \n",
      "1  0.056507  \n",
      "0  0.004025  \n",
      "2  0.044924  \n",
      "WOE score: 0.33\n",
      "IV score: 0.11\n",
      "\n",
      "Department\n",
      "                    Value  All  Good  Bad  Distr_Good  Distr_Bad       WoE  \\\n",
      "0                   Sales  403   321   82    0.284071   0.384977 -0.303959   \n",
      "1  Research & Development  940   809  131    0.715929   0.615023  0.151921   \n",
      "\n",
      "         IV  \n",
      "0  0.030671  \n",
      "1  0.015330  \n",
      "WOE score: -0.15\n",
      "IV score: 0.05\n",
      "\n",
      "Education\n",
      "   Value  All  Good  Bad  Distr_Good  Distr_Bad       WoE        IV\n",
      "1      1  157   130   27    0.115044   0.126761 -0.096983  0.001136\n",
      "3      3  557   463   94    0.409735   0.441315 -0.074248  0.002345\n",
      "0      2  264   224   40    0.198230   0.187793  0.054086  0.000564\n",
      "2      4  365   313   52    0.276991   0.244131  0.126279  0.004149\n",
      "WOE score: 0.01\n",
      "IV score: 0.01\n",
      "\n",
      "EducationField\n",
      "              Value  All  Good  Bad  Distr_Good  Distr_Bad       WoE  \\\n",
      "4  Technical Degree  125    96   29    0.084956   0.136150 -0.471628   \n",
      "3         Marketing  144   112   32    0.099115   0.150235 -0.415918   \n",
      "2             Other  101    85   16    0.075221   0.075117  0.001382   \n",
      "0     Life Sciences  554   476   78    0.421239   0.366197  0.140028   \n",
      "1           Medical  419   361   58    0.319469   0.272300  0.159754   \n",
      "\n",
      "             IV  \n",
      "4  2.414477e-02  \n",
      "3  2.126159e-02  \n",
      "2  1.435236e-07  \n",
      "0  7.707402e-03  \n",
      "1  7.535375e-03  \n",
      "WOE score: -0.59\n",
      "IV score: 0.06\n",
      "\n",
      "EnvironmentSatisfaction\n",
      "  Value  All  Good  Bad  Distr_Good  Distr_Bad       WoE        IV\n",
      "3     1  259   191   68    0.169027   0.319249 -0.635915  0.095529\n",
      "0     2  260   221   39    0.195575   0.183099  0.065920  0.000822\n",
      "2     4  406   352   54    0.311504   0.253521  0.205966  0.011943\n",
      "1     3  418   366   52    0.323894   0.244131  0.282709  0.022550\n",
      "WOE score: -0.08\n",
      "IV score: 0.13\n",
      "\n",
      "Gender\n",
      "    Value  All  Good  Bad  Distr_Good  Distr_Bad       WoE        IV\n",
      "1    Male  806   671  135    0.593805   0.633803 -0.065186  0.002607\n",
      "0  Female  537   459   78    0.406195   0.366197  0.103661  0.004146\n",
      "WOE score: 0.04\n",
      "IV score: 0.01\n",
      "\n",
      "JobInvolvement\n",
      "  Value  All  Good  Bad  Distr_Good  Distr_Bad       WoE        IV\n",
      "3     1   74    50   24    0.044248   0.112676 -0.934712  0.063961\n",
      "1     2  343   277   66    0.245133   0.309859 -0.234318  0.015167\n",
      "0     3  792   680  112    0.601770   0.525822  0.134913  0.010246\n",
      "2     4  134   123   11    0.108850   0.051643  0.745608  0.042654\n",
      "WOE score: -0.29\n",
      "IV score: 0.13\n",
      "\n",
      "JobLevel\n",
      "   Value  All  Good  Bad  Distr_Good  Distr_Bad       WoE        IV\n",
      "1      1  513   384  129    0.339823   0.605634 -0.577851  0.153599\n",
      "2      3  194   165   29    0.146018   0.136150  0.069969  0.000690\n",
      "0      2  561   509   52    0.450442   0.244131  0.612524  0.126370\n",
      "3      4   75    72    3    0.063717   0.014085  1.509373  0.074914\n",
      "WOE score: 1.61\n",
      "IV score: 0.36\n",
      "\n",
      "JobRole\n",
      "                       Value  All  Good  Bad  Distr_Good  Distr_Bad       WoE  \\\n",
      "6       Sales Representative   76    47   29    0.041593   0.136150 -1.185829   \n",
      "2      Laboratory Technician  243   189   54    0.167257   0.253521 -0.415918   \n",
      "0            Sales Executive  304   252   52    0.223009   0.244131 -0.090495   \n",
      "1         Research Scientist  281   236   45    0.208850   0.211268 -0.011511   \n",
      "5                      Other  182   166   16    0.146903   0.075117  0.670718   \n",
      "4  Healthcare Representative  120   112    8    0.099115   0.037559  0.970377   \n",
      "3     Manufacturing Director  137   128    9    0.113274   0.042254  0.986125   \n",
      "\n",
      "         IV  \n",
      "6  0.112129  \n",
      "2  0.035879  \n",
      "0  0.001911  \n",
      "1  0.000028  \n",
      "5  0.048148  \n",
      "4  0.059733  \n",
      "3  0.070035  \n",
      "WOE score: 0.92\n",
      "IV score: 0.33\n",
      "\n",
      "JobSatisfaction\n",
      "  Value  All  Good  Bad  Distr_Good  Distr_Bad       WoE        IV\n",
      "3     1  256   198   58    0.175221   0.272300 -0.440857  0.042798\n",
      "1     2  257   214   43    0.189381   0.201878 -0.063905  0.000799\n",
      "2     3  402   337   65    0.298230   0.305164 -0.022985  0.000159\n",
      "0     4  428   381   47    0.337168   0.220657  0.423971  0.049397\n",
      "WOE score: -0.10\n",
      "IV score: 0.09\n",
      "\n",
      "MaritalStatus\n",
      "      Value  All  Good  Bad  Distr_Good  Distr_Bad       WoE        IV\n",
      "0    Single  419   316  103    0.279646   0.483568 -0.547668  0.111681\n",
      "1   Married  624   547   77    0.484071   0.361502  0.291963  0.035785\n",
      "2  Divorced  300   267   33    0.236283   0.154930  0.422060  0.034336\n",
      "WOE score: 0.17\n",
      "IV score: 0.18\n",
      "\n",
      "OverTime\n",
      "  Value  All  Good  Bad  Distr_Good  Distr_Bad       WoE        IV\n",
      "0   Yes  381   266  115    0.235398   0.539906 -0.830117  0.252777\n",
      "1    No  962   864   98    0.764602   0.460094  0.507925  0.154667\n",
      "WOE score: -0.32\n",
      "IV score: 0.41\n",
      "\n",
      "PerformanceRating\n",
      "  Value   All  Good  Bad  Distr_Good  Distr_Bad       WoE        IV\n",
      "1     4   205   172   33    0.152212    0.15493 -0.017694  0.000048\n",
      "0     3  1138   958  180    0.847788    0.84507  0.003210  0.000009\n",
      "WOE score: -0.01\n",
      "IV score: 0.00\n",
      "\n",
      "RelationshipSatisfaction\n",
      "  Value  All  Good  Bad  Distr_Good  Distr_Bad       WoE        IV\n",
      "0     1  258   202   56    0.178761   0.262911 -0.385765  0.032462\n",
      "2     3  417   356   61    0.315044   0.286385  0.095376  0.002733\n",
      "3     2  278   238   40    0.210619   0.187793  0.114710  0.002618\n",
      "1     4  390   334   56    0.295575   0.262911  0.117109  0.003825\n",
      "WOE score: -0.06\n",
      "IV score: 0.04\n",
      "\n",
      "StockOptionLevel\n",
      "  Value  All  Good  Bad  Distr_Good  Distr_Bad       WoE        IV\n",
      "0     0  569   434  135    0.384071   0.633803 -0.500911  0.125094\n",
      "2     3   78    63   15    0.055752   0.070423 -0.233596  0.003427\n",
      "1     1  549   497   52    0.439823   0.244131  0.588666  0.115197\n",
      "3     2  147   136   11    0.120354   0.051643  0.846079  0.058135\n",
      "WOE score: 0.70\n",
      "IV score: 0.30\n",
      "\n",
      "WorkLifeBalance\n",
      "  Value  All  Good  Bad  Distr_Good  Distr_Bad       WoE        IV\n",
      "0     1   72    49   23    0.043363   0.107981 -0.912355  0.058955\n",
      "3     4  139   114   25    0.100885   0.117371 -0.151358  0.002495\n",
      "2     2  313   261   52    0.230973   0.244131 -0.055404  0.000729\n",
      "1     3  819   706  113    0.624779   0.530516  0.163547  0.015416\n",
      "WOE score: -0.96\n",
      "IV score: 0.08\n",
      "\n",
      "Age\n",
      "         Value  All  Good  Bad  Distr_Good  Distr_Bad       WoE        IV\n",
      "2  19.00|29.25  304   225   79    0.199115   0.370892 -0.622028  0.106850\n",
      "1  29.25|39.50  605   520   85    0.460177   0.399061  0.142497  0.008709\n",
      "3  49.75|60.00  132   114   18    0.100885   0.084507  0.177146  0.002901\n",
      "0  39.50|49.75  302   271   31    0.239823   0.145540  0.499451  0.047090\n",
      "WOE score: 0.20\n",
      "IV score: 0.17\n",
      "\n",
      "DailyRate\n",
      "             Value  All  Good  Bad  Distr_Good  Distr_Bad       WoE        IV\n",
      "1    102.00|381.20  257   208   49    0.184071   0.230047 -0.222963  0.010251\n",
      "3    381.20|660.40  275   227   48    0.200885   0.225352 -0.114932  0.002812\n",
      "4    660.40|939.60  267   222   45    0.196460   0.211268 -0.072666  0.001076\n",
      "0   939.60|1218.80  267   232   35    0.205310   0.164319  0.222709  0.009129\n",
      "2  1218.80|1498.00  277   241   36    0.213274   0.169014  0.232597  0.010295\n",
      "WOE score: 0.04\n",
      "IV score: 0.03\n",
      "\n",
      "DistanceFromHome\n",
      "         Value  All  Good  Bad  Distr_Good  Distr_Bad       WoE        IV\n",
      "2  22.00|29.00  168   128   40    0.113274   0.187793 -0.505530  0.037672\n",
      "3  15.00|22.00  159   130   29    0.115044   0.136150 -0.168442  0.003555\n",
      "1   8.00|15.00  309   256   53    0.226549   0.248826 -0.093795  0.002090\n",
      "0    1.00|8.00  707   616   91    0.545133   0.427230  0.243707  0.028734\n",
      "WOE score: -0.52\n",
      "IV score: 0.07\n",
      "\n",
      "HourlyRate\n",
      "          Value  All  Good  Bad  Distr_Good  Distr_Bad       WoE        IV\n",
      "1   58.00|72.00  245   200   45    0.176991   0.211268 -0.177026  0.006068\n",
      "2   44.00|58.00  279   229   50    0.202655   0.234742 -0.146982  0.004716\n",
      "0  86.00|100.00  291   247   44    0.218584   0.206573  0.056518  0.000679\n",
      "3   30.00|44.00  242   207   35    0.183186   0.164319  0.108690  0.002051\n",
      "4   72.00|86.00  286   247   39    0.218584   0.183099  0.177146  0.006286\n",
      "WOE score: 0.02\n",
      "IV score: 0.02\n",
      "\n",
      "MonthlyIncome\n",
      "               Value  All  Good  Bad  Distr_Good  Distr_Bad       WoE  \\\n",
      "1    1009.00|4795.80  676   534  142    0.472566   0.666667 -0.344112   \n",
      "2   8582.60|12369.40  149   125   24    0.110619   0.112676 -0.018421   \n",
      "0    4795.80|8582.60  386   344   42    0.304425   0.197183  0.434291   \n",
      "3  12369.40|16156.20   56    53    3    0.046903   0.014085  1.202999   \n",
      "4  16156.20|19943.00   76    74    2    0.065487   0.009390  1.942237   \n",
      "\n",
      "         IV  \n",
      "1  0.066792  \n",
      "2  0.000038  \n",
      "0  0.046574  \n",
      "3  0.039480  \n",
      "4  0.108954  \n",
      "WOE score: 3.22\n",
      "IV score: 0.26\n",
      "\n",
      "MonthlyRate\n",
      "               Value  All  Good  Bad  Distr_Good  Distr_Bad       WoE  \\\n",
      "3   7077.40|12057.80  284   234   50    0.207080   0.234742 -0.125383   \n",
      "1  22018.60|26999.00  248   205   43    0.181416   0.201878 -0.106871   \n",
      "0  17038.20|22018.60  270   225   45    0.199115   0.211268 -0.059243   \n",
      "4    2097.00|7077.40  272   232   40    0.205310   0.187793  0.089177   \n",
      "2  12057.80|17038.20  269   234   35    0.207080   0.164319  0.231292   \n",
      "\n",
      "         IV  \n",
      "3  0.003468  \n",
      "1  0.002187  \n",
      "0  0.000720  \n",
      "4  0.001562  \n",
      "2  0.009890  \n",
      "WOE score: 0.03\n",
      "IV score: 0.02\n",
      "\n",
      "NumCompaniesWorked\n",
      "       Value  All  Good  Bad  Distr_Good  Distr_Bad       WoE        IV\n",
      "0  6.00|9.00  223   178   45    0.157522   0.211268 -0.293560  0.015778\n",
      "1  0.00|3.00  799   679  120    0.600885   0.563380  0.064449  0.002417\n",
      "2  3.00|6.00  321   273   48    0.241593   0.225352  0.069590  0.001130\n",
      "WOE score: -0.16\n",
      "IV score: 0.02\n",
      "\n",
      "PercentSalaryHike\n",
      "         Value  All  Good  Bad  Distr_Good  Distr_Bad       WoE        IV\n",
      "1  21.50|25.00  110    85   25    0.075221   0.117371 -0.444905  0.018753\n",
      "3  14.50|18.00  237   196   41    0.173451   0.192488 -0.104138  0.001982\n",
      "0  11.00|14.50  748   630  118    0.557522   0.553991  0.006354  0.000022\n",
      "2  18.00|21.50  248   219   29    0.193805   0.136150  0.353095  0.020358\n",
      "WOE score: -0.19\n",
      "IV score: 0.04\n",
      "\n",
      "TotalWorkingYears\n",
      "         Value  All  Good  Bad  Distr_Good  Distr_Bad       WoE        IV\n",
      "0    1.00|9.25  688   545  143    0.482301   0.671362 -0.330740  0.062530\n",
      "1   9.25|17.50  451   398   53    0.352212   0.248826  0.347479  0.035925\n",
      "3  17.50|25.75  150   136   14    0.120354   0.065728  0.604917  0.033044\n",
      "2  25.75|34.00   54    51    3    0.045133   0.014085  1.164533  0.036157\n",
      "WOE score: 1.79\n",
      "IV score: 0.17\n",
      "\n",
      "TrainingTimesLastYear\n"
     ]
    },
    {
     "name": "stdout",
     "output_type": "stream",
     "text": [
      "       Value  All  Good  Bad  Distr_Good  Distr_Bad       WoE        IV\n",
      "0  0.00|2.00  115    94   21    0.083186   0.098592 -0.169908  0.002618\n",
      "1  2.00|4.00  953   801  152    0.708850   0.713615 -0.006700  0.000032\n",
      "2  4.00|6.00  275   235   40    0.207965   0.187793  0.102025  0.002058\n",
      "WOE score: -0.07\n",
      "IV score: 0.00\n",
      "\n",
      "YearsAtCompany\n",
      "         Value  All  Good  Bad  Distr_Good  Distr_Bad       WoE        IV\n",
      "0    1.00|7.00  806   651  155    0.576106   0.727700 -0.233596  0.035412\n",
      "1   7.00|13.00  411   363   48    0.321239   0.225352  0.354521  0.033994\n",
      "3  13.00|19.00   81    74    7    0.065487   0.032864  0.689474  0.022493\n",
      "2  19.00|25.00   45    42    3    0.037168   0.014085  0.970377  0.022400\n",
      "WOE score: 1.78\n",
      "IV score: 0.11\n",
      "\n",
      "YearsInCurrentRole\n",
      "         Value  All  Good  Bad  Distr_Good  Distr_Bad       WoE        IV\n",
      "1    0.00|3.75  760   608  152    0.538053   0.713615 -0.282386  0.049576\n",
      "0    3.75|7.50  378   331   47    0.292920   0.220657  0.283290  0.020471\n",
      "2   7.50|11.25  180   167   13    0.147788   0.061033  0.884364  0.076723\n",
      "3  11.25|15.00   25    24    1    0.021239   0.004695  1.509373  0.024971\n",
      "WOE score: 2.39\n",
      "IV score: 0.17\n",
      "\n",
      "YearsSinceLastPromotion\n",
      "        Value   All  Good  Bad  Distr_Good  Distr_Bad       WoE        IV\n",
      "3  8.25|11.00    39    32    7    0.028319   0.032864 -0.148855  0.000677\n",
      "2   5.50|8.25   120    99   21    0.087611   0.098592 -0.118083  0.001297\n",
      "0   0.00|2.75  1035   866  169    0.766372   0.793427 -0.034695  0.000939\n",
      "1   2.75|5.50   149   133   16    0.117699   0.075117  0.449080  0.019123\n",
      "WOE score: 0.15\n",
      "IV score: 0.02\n",
      "\n",
      "YearsWithCurrManager\n",
      "         Value  All  Good  Bad  Distr_Good  Distr_Bad       WoE        IV\n",
      "2    0.00|3.50  775   626  149    0.553982   0.699531 -0.233277  0.033953\n",
      "1   7.00|10.50  373   328   45    0.290265   0.211268  0.317670  0.025095\n",
      "0    3.50|7.00  150   132   18    0.116814   0.084507  0.323749  0.010459\n",
      "3  10.50|14.00   45    44    1    0.038938   0.004695  2.115509  0.072442\n",
      "WOE score: 2.52\n",
      "IV score: 0.14\n",
      "\n",
      "PercentWorkingAtCompany\n",
      "          Value  All  Good  Bad  Distr_Good  Distr_Bad       WoE        IV\n",
      "4   41.76|61.18  169   140   29    0.123894   0.136150 -0.094334  0.001156\n",
      "0   61.18|80.59  205   170   35    0.150442   0.164319 -0.088230  0.001224\n",
      "1  80.59|100.00  646   543  103    0.480531   0.483568 -0.006300  0.000019\n",
      "3    2.94|22.35  160   136   24    0.120354   0.112676  0.065920  0.000506\n",
      "2   22.35|41.76  163   141   22    0.124779   0.103286  0.189037  0.004063\n",
      "WOE score: 0.07\n",
      "IV score: 0.01\n",
      "\n",
      "PercentCurrentRoleAtCompany\n",
      "          Value  All  Good  Bad  Distr_Good  Distr_Bad       WoE        IV\n",
      "2    0.00|20.00  216   157   59    0.138938   0.276995 -0.689972  0.095256\n",
      "4   20.00|40.00   94    79   15    0.069912   0.070423 -0.007283  0.000004\n",
      "3   40.00|60.00  179   153   26    0.135398   0.122066  0.103661  0.001382\n",
      "1  80.00|100.00  475   411   64    0.363717   0.300469  0.191029  0.012082\n",
      "0   60.00|80.00  379   330   49    0.292035   0.230047  0.238592  0.014790\n",
      "WOE score: -0.16\n",
      "IV score: 0.12\n",
      "\n"
     ]
    }
   ],
   "source": [
    "iv_val = dict()\n",
    "woe_val = dict()\n",
    "for fea in cat_fea + num_fea:\n",
    "  woe = get_woe_iv(df, fea, 'y')\n",
    "  iv_val[fea] = woe['IV'].sum()\n",
    "  woe_val[fea] = woe['WoE'].sum()\n",
    "  print(fea)\n",
    "  print(woe)\n",
    "  print('WOE score: {:.2f}'.format(woe_val[fea]))\n",
    "  print('IV score: {:.2f}'.format(iv_val[fea]))\n",
    "  print()\n",
    "iv_val = sorted(iv_val.items(), key=lambda item:item[1], reverse=True)"
   ]
  },
  {
   "cell_type": "markdown",
   "metadata": {
    "colab_type": "text",
    "id": "6iRoCs5rLXFV"
   },
   "source": [
    "![image.png](data:image/png;base64,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)"
   ]
  },
  {
   "cell_type": "code",
   "execution_count": 19,
   "metadata": {
    "colab": {
     "base_uri": "https://localhost:8080/",
     "height": 509
    },
    "colab_type": "code",
    "id": "4QwSfskPY05J",
    "outputId": "56f360d7-fa6d-4a9b-9d90-a18c33318fdc"
   },
   "outputs": [
    {
     "data": {
      "text/html": [
       "<div>\n",
       "<style scoped>\n",
       "    .dataframe tbody tr th:only-of-type {\n",
       "        vertical-align: middle;\n",
       "    }\n",
       "\n",
       "    .dataframe tbody tr th {\n",
       "        vertical-align: top;\n",
       "    }\n",
       "\n",
       "    .dataframe thead th {\n",
       "        text-align: right;\n",
       "    }\n",
       "</style>\n",
       "<table border=\"1\" class=\"dataframe\">\n",
       "  <thead>\n",
       "    <tr style=\"text-align: right;\">\n",
       "      <th></th>\n",
       "      <th>Feature</th>\n",
       "      <th>IV</th>\n",
       "    </tr>\n",
       "  </thead>\n",
       "  <tbody>\n",
       "    <tr>\n",
       "      <th>0</th>\n",
       "      <td>OverTime</td>\n",
       "      <td>0.407444</td>\n",
       "    </tr>\n",
       "    <tr>\n",
       "      <th>1</th>\n",
       "      <td>JobLevel</td>\n",
       "      <td>0.355573</td>\n",
       "    </tr>\n",
       "    <tr>\n",
       "      <th>2</th>\n",
       "      <td>JobRole</td>\n",
       "      <td>0.327863</td>\n",
       "    </tr>\n",
       "    <tr>\n",
       "      <th>3</th>\n",
       "      <td>StockOptionLevel</td>\n",
       "      <td>0.301852</td>\n",
       "    </tr>\n",
       "    <tr>\n",
       "      <th>4</th>\n",
       "      <td>MonthlyIncome</td>\n",
       "      <td>0.261838</td>\n",
       "    </tr>\n",
       "    <tr>\n",
       "      <th>5</th>\n",
       "      <td>MaritalStatus</td>\n",
       "      <td>0.181803</td>\n",
       "    </tr>\n",
       "    <tr>\n",
       "      <th>6</th>\n",
       "      <td>YearsInCurrentRole</td>\n",
       "      <td>0.171742</td>\n",
       "    </tr>\n",
       "    <tr>\n",
       "      <th>7</th>\n",
       "      <td>TotalWorkingYears</td>\n",
       "      <td>0.167655</td>\n",
       "    </tr>\n",
       "    <tr>\n",
       "      <th>8</th>\n",
       "      <td>Age</td>\n",
       "      <td>0.165550</td>\n",
       "    </tr>\n",
       "    <tr>\n",
       "      <th>9</th>\n",
       "      <td>YearsWithCurrManager</td>\n",
       "      <td>0.141950</td>\n",
       "    </tr>\n",
       "    <tr>\n",
       "      <th>10</th>\n",
       "      <td>JobInvolvement</td>\n",
       "      <td>0.132027</td>\n",
       "    </tr>\n",
       "    <tr>\n",
       "      <th>11</th>\n",
       "      <td>EnvironmentSatisfaction</td>\n",
       "      <td>0.130843</td>\n",
       "    </tr>\n",
       "    <tr>\n",
       "      <th>12</th>\n",
       "      <td>PercentCurrentRoleAtCompany</td>\n",
       "      <td>0.123513</td>\n",
       "    </tr>\n",
       "    <tr>\n",
       "      <th>13</th>\n",
       "      <td>YearsAtCompany</td>\n",
       "      <td>0.114298</td>\n",
       "    </tr>\n",
       "    <tr>\n",
       "      <th>14</th>\n",
       "      <td>BusinessTravel</td>\n",
       "      <td>0.105457</td>\n",
       "    </tr>\n",
       "  </tbody>\n",
       "</table>\n",
       "</div>"
      ],
      "text/plain": [
       "                        Feature        IV\n",
       "0                      OverTime  0.407444\n",
       "1                      JobLevel  0.355573\n",
       "2                       JobRole  0.327863\n",
       "3              StockOptionLevel  0.301852\n",
       "4                 MonthlyIncome  0.261838\n",
       "5                 MaritalStatus  0.181803\n",
       "6            YearsInCurrentRole  0.171742\n",
       "7             TotalWorkingYears  0.167655\n",
       "8                           Age  0.165550\n",
       "9          YearsWithCurrManager  0.141950\n",
       "10               JobInvolvement  0.132027\n",
       "11      EnvironmentSatisfaction  0.130843\n",
       "12  PercentCurrentRoleAtCompany  0.123513\n",
       "13               YearsAtCompany  0.114298\n",
       "14               BusinessTravel  0.105457"
      ]
     },
     "execution_count": 19,
     "metadata": {},
     "output_type": "execute_result"
    }
   ],
   "source": [
    "iv = pd.DataFrame(iv_val, columns=['Feature', 'IV'])\n",
    "iv = iv[iv['IV'] > 0.1]\n",
    "iv_fea = iv['Feature']\n",
    "iv"
   ]
  },
  {
   "cell_type": "markdown",
   "metadata": {
    "colab_type": "text",
    "id": "9wY5a34Ebo5T"
   },
   "source": [
    "## Cadenas a valores numericos"
   ]
  },
  {
   "cell_type": "code",
   "execution_count": null,
   "metadata": {
    "colab": {
     "base_uri": "https://localhost:8080/",
     "height": 240
    },
    "colab_type": "code",
    "id": "bAvWoGFfjRbS",
    "outputId": "890b27d4-1a11-4781-df8a-bcc1c93bf03d"
   },
   "outputs": [],
   "source": [
    "for fea in num_fea:\n",
    "  df[fea].replace(range_to_int[fea], inplace=True)\n",
    "\n",
    "cat_str_fea = ['BusinessTravel', 'Department', 'EducationField', 'Gender', 'JobRole', 'MaritalStatus', 'OverTime']\n",
    "df = pd.concat([df, pd.get_dummies(df[cat_str_fea], drop_first=True)], axis=1, sort=False)\n",
    "reverse_onehotencoding = df[cat_str_fea].copy()\n",
    "df.drop(cat_str_fea, axis=1, inplace=True)\n",
    "aux = [(x.split('_')[0] in list(iv_fea)) for x in df.columns]\n",
    "iv_ohe_fea = df.columns[aux]\n",
    "\n",
    "\"\"\"\n",
    "cat_to_int = dict()\n",
    "int_to_cat = dict()\n",
    "for fea in cat_str_fea:\n",
    "  fea_idx = df[fea].value_counts().index\n",
    "  cat_to_int[fea] = dict(zip(fea_idx, range(len(fea_idx))))\n",
    "  int_to_cat[fea] = dict(zip(range(len(fea_idx)), fea_idx))\n",
    "  df[fea].replace(cat_to_int[fea], inplace=True)  \n",
    "\"\"\"    \n",
    "\n",
    "df = df.astype(float)\n",
    "df.head()"
   ]
  },
  {
   "cell_type": "markdown",
   "metadata": {
    "colab_type": "text",
    "id": "g1Q66dNaoDSA"
   },
   "source": [
    "# Modelos"
   ]
  },
  {
   "cell_type": "code",
   "execution_count": null,
   "metadata": {
    "colab": {},
    "colab_type": "code",
    "id": "QIM4miEqdwba"
   },
   "outputs": [],
   "source": [
    "# scaler = StandardScaler()\n",
    "X = df[iv_ohe_fea].copy()\n",
    "y = df['y'].copy()\n",
    "\n",
    "random_state = np.random.randint(1000000) # 760110\n",
    "Xt, Xv, yt, yv = train_test_split(X, y, random_state = random_state)"
   ]
  },
  {
   "cell_type": "code",
   "execution_count": null,
   "metadata": {
    "colab": {
     "base_uri": "https://localhost:8080/",
     "height": 34
    },
    "colab_type": "code",
    "id": "Ij0K3xmvmrgo",
    "outputId": "45ac8822-0c17-4076-fc63-84a593732941"
   },
   "outputs": [],
   "source": [
    "param_grid = [{\n",
    "    'penalty': ['l1', 'l2', 'elasticnet'],\n",
    "    'C': [0.3, 0.5, 1, 3, 5, 7, 10],\n",
    "    'max_iter': [len(Xt) * 3]\n",
    "}]\n",
    "gscv = GridSearchCV(\n",
    "  LogisticRegression(),\n",
    "  param_grid,\n",
    "  scoring='roc_auc', # f1\n",
    "  n_jobs=-1,\n",
    "  cv=5,\n",
    ")\n",
    "gscv.fit(Xt, yt)\n",
    "gscv.best_params_, gscv.best_score_"
   ]
  },
  {
   "cell_type": "code",
   "execution_count": null,
   "metadata": {
    "colab": {
     "base_uri": "https://localhost:8080/",
     "height": 173
    },
    "colab_type": "code",
    "id": "BBPXuBcJcs-T",
    "outputId": "355bb4e3-af72-4993-da31-611d8fb18079"
   },
   "outputs": [],
   "source": [
    "model = LogisticRegression(\n",
    "  C = gscv.best_params_['C'], \n",
    "  penalty = gscv.best_params_['penalty'], \n",
    "  max_iter=len(Xt) * 3\n",
    ")\n",
    "model.fit(Xt, yt)\n",
    "print('roc_auc_score\\t', roc_auc_score(yt, model.predict_proba(Xt)[:, 1]), roc_auc_score(yv, model.predict_proba(Xv)[:, 1]))\n",
    "print('accuracy\\t', accuracy_score(yt, model.predict(Xt)), accuracy_score(yv, model.predict(Xv)))\n",
    "print('precision\\t', precision_score(yt, model.predict(Xt)), precision_score(yv, model.predict(Xv)))\n",
    "print('recall\\t\\t', recall_score(yt, model.predict(Xt)), recall_score(yv, model.predict(Xv)))\n",
    "print('f1_score\\t', f1_score(yt, model.predict(Xt)), f1_score(yv, model.predict(Xv)))\n",
    "print(confusion_matrix(yt, model.predict(Xt)))\n",
    "print(confusion_matrix(yv, model.predict(Xv)))"
   ]
  },
  {
   "cell_type": "code",
   "execution_count": null,
   "metadata": {
    "colab": {
     "base_uri": "https://localhost:8080/",
     "height": 785
    },
    "colab_type": "code",
    "id": "KWxG7XGJ7pe5",
    "outputId": "5d7c4f28-dce4-4b09-bfe7-0ab4ffe25099"
   },
   "outputs": [],
   "source": [
    "pd.DataFrame({'feature': iv_ohe_fea, 'coef': model.coef_[0]})"
   ]
  },
  {
   "cell_type": "code",
   "execution_count": null,
   "metadata": {
    "colab": {},
    "colab_type": "code",
    "id": "MtyVTMeDbnSQ"
   },
   "outputs": [],
   "source": [
    "def plot_roc_curve(fpr, tpr):\n",
    "    plt.plot(fpr, tpr, color='orange', label='ROC')\n",
    "    plt.plot([0, 1], [0, 1], color='darkblue', linestyle='--')\n",
    "    plt.xlabel('False Positive Rate')\n",
    "    plt.ylabel('True Positive Rate')\n",
    "    plt.title('Receiver Operating Characteristic (ROC) Curve')\n",
    "    plt.legend()\n",
    "    plt.show()"
   ]
  },
  {
   "cell_type": "code",
   "execution_count": null,
   "metadata": {
    "colab": {
     "base_uri": "https://localhost:8080/",
     "height": 573
    },
    "colab_type": "code",
    "id": "sLSyW7A1bntT",
    "outputId": "b5907c3f-ee99-4929-ae75-0d950492a9f8"
   },
   "outputs": [],
   "source": [
    "fpr, tpr, thresholds = roc_curve(yt, model.predict_proba(Xt)[:, 1])\n",
    "plot_roc_curve(fpr, tpr)\n",
    "fpr, tpr, thresholds = roc_curve(yv, model.predict_proba(Xv)[:, 1])\n",
    "plot_roc_curve(fpr, tpr)"
   ]
  },
  {
   "cell_type": "code",
   "execution_count": null,
   "metadata": {
    "colab": {
     "base_uri": "https://localhost:8080/",
     "height": 240
    },
    "colab_type": "code",
    "id": "cKJC1y3-O3JG",
    "outputId": "0fcc8627-ccbb-4c5a-c634-46aa4c30bff0"
   },
   "outputs": [],
   "source": [
    "df.head()"
   ]
  },
  {
   "cell_type": "code",
   "execution_count": null,
   "metadata": {
    "colab": {},
    "colab_type": "code",
    "id": "S6N-RBfrrj-6"
   },
   "outputs": [],
   "source": [
    "# Pasar los numeros a sus valores originales\n",
    "\n",
    "for fea in range_to_int.keys():\n",
    "  df[fea].replace(int_to_range[fea], inplace=True)"
   ]
  },
  {
   "cell_type": "code",
   "execution_count": null,
   "metadata": {
    "colab": {
     "base_uri": "https://localhost:8080/",
     "height": 1000
    },
    "colab_type": "code",
    "id": "dUBmES1FqIfu",
    "outputId": "f7dc5d71-2ed8-4ced-c82a-28ed028d933c"
   },
   "outputs": [],
   "source": [
    "for fea in iv_ohe_fea:\n",
    "  aux = df[[fea, 'y']].copy()\n",
    "  aux['n'] = 1\n",
    "  aux = aux.pivot_table(index = fea, columns = 'y', values = 'n', aggfunc='sum')\n",
    "  aux['t'] = aux[range(2)].sum(axis=1)\n",
    "  for k in range(2):\n",
    "    aux[k] /= aux['t']\n",
    "  print(aux)\n",
    "  print()"
   ]
  },
  {
   "cell_type": "markdown",
   "metadata": {
    "colab_type": "text",
    "id": "GY_G4lZdsl9D"
   },
   "source": [
    "# Scorecard"
   ]
  },
  {
   "cell_type": "code",
   "execution_count": null,
   "metadata": {
    "colab": {
     "base_uri": "https://localhost:8080/",
     "height": 334
    },
    "colab_type": "code",
    "id": "2yq7YYJVhBHP",
    "outputId": "59d9db99-16c8-49ac-966a-48f97ce8c66f"
   },
   "outputs": [],
   "source": [
    "aux = Xt.copy()\n",
    "aux['proba'] = model.predict_proba(aux)[:,1]\n",
    "aux['proba'] = pd.cut(aux['proba'],include_lowest=True,bins=np.arange(0,1.1,0.1))\n",
    "aux.proba.value_counts(True).sort_index().plot(kind='bar')"
   ]
  },
  {
   "cell_type": "code",
   "execution_count": null,
   "metadata": {
    "colab": {
     "base_uri": "https://localhost:8080/",
     "height": 173
    },
    "colab_type": "code",
    "id": "nsipcvb3sunV",
    "outputId": "d475120a-d80f-4ebf-f383-f405856d826a"
   },
   "outputs": [],
   "source": [
    "pdo = 11.5  #Points to double de odd's  \n",
    "base_score = 326 #score base\n",
    "base_odds = 1 #odd's base\n",
    "factor = float(pdo) / np.log(2)\n",
    "offset = base_score - factor * np.log(base_odds)\n",
    "\n",
    "n = len(iv_ohe_fea)\n",
    "betas = model.coef_[0]\n",
    "alpha = model.intercept_[0]\n",
    "for feat, beta in zip(iv_ohe_fea, betas):\n",
    "    aux['P_' + feat] = np.ceil((-aux[feat] * beta + alpha / n) * factor + offset / n).astype(int)\n",
    "aux['score'] = aux[[f for f in aux.columns if f[:2] == 'P_']].sum(axis=1)\n",
    "aux.score.describe()"
   ]
  },
  {
   "cell_type": "code",
   "execution_count": null,
   "metadata": {
    "colab": {
     "base_uri": "https://localhost:8080/",
     "height": 282
    },
    "colab_type": "code",
    "id": "UhmLb9HJvsf5",
    "outputId": "7eabef0c-eb46-47f1-baaf-b57379a9aace"
   },
   "outputs": [],
   "source": [
    "aux.score.hist()"
   ]
  },
  {
   "cell_type": "code",
   "execution_count": null,
   "metadata": {
    "colab": {
     "base_uri": "https://localhost:8080/",
     "height": 356
    },
    "colab_type": "code",
    "id": "PzG7RR5RzEYF",
    "outputId": "38524708-e2b0-49e1-9405-40ab8d649eb7"
   },
   "outputs": [],
   "source": [
    "aux['r_score'] = pd.cut(aux.score, bins=range(min(aux.score) - 15,max(aux.score) + 15,15),include_lowest=True)\n",
    "aux.r_score.value_counts().sort_index().plot(kind='bar')"
   ]
  },
  {
   "cell_type": "code",
   "execution_count": null,
   "metadata": {
    "colab": {
     "base_uri": "https://localhost:8080/",
     "height": 1000
    },
    "colab_type": "code",
    "id": "O73-qQnI0qOO",
    "outputId": "be61e8c8-3aec-497c-8fb2-fb394af91413"
   },
   "outputs": [],
   "source": [
    "aux['target']  = yt\n",
    "aux['n']= 1.0\n",
    "aux['r_score'] = aux['r_score'].astype(str)\n",
    "aux['proba'] = aux['proba'].astype(str)\n",
    "aux[['r_score','proba','target','n']].groupby(['r_score', 'proba', 'target']).sum()"
   ]
  },
  {
   "cell_type": "code",
   "execution_count": null,
   "metadata": {
    "colab": {},
    "colab_type": "code",
    "id": "EzdMJbwWEiLy"
   },
   "outputs": [],
   "source": [
    "# Pasar los numeros a sus valores originales (de algunos)\n",
    "for fea in [x for x in range_to_int.keys() if x in iv_ohe_fea]:\n",
    "  aux[fea].replace(int_to_range[fea], inplace=True)\n",
    "\n",
    "l_sc = []\n",
    "for fea in iv_ohe_fea:\n",
    "  aux2 = aux[[fea, 'P_%s' % fea]].copy().drop_duplicates().reset_index(drop=True)\n",
    "  aux2.rename(columns={fea:'atributo','P_%s' % fea:'puntos'},inplace=True)\n",
    "  aux2['caracteristica'] = fea\n",
    "  l_sc.append(aux2)"
   ]
  },
  {
   "cell_type": "code",
   "execution_count": null,
   "metadata": {
    "colab": {},
    "colab_type": "code",
    "id": "1gBUE4hczrGg"
   },
   "outputs": [],
   "source": [
    "sc = pd.concat(l_sc,ignore_index=True)"
   ]
  },
  {
   "cell_type": "code",
   "execution_count": null,
   "metadata": {
    "colab": {},
    "colab_type": "code",
    "id": "CxkDKG02zq-Z"
   },
   "outputs": [],
   "source": [
    "sc = sc.groupby(['caracteristica','atributo']).sum()"
   ]
  },
  {
   "cell_type": "code",
   "execution_count": null,
   "metadata": {
    "colab": {
     "base_uri": "https://localhost:8080/",
     "height": 1000
    },
    "colab_type": "code",
    "id": "V2C-uvBKzqxf",
    "outputId": "b6166edb-e2ce-47d8-c9bd-2d73e8e64269"
   },
   "outputs": [],
   "source": [
    "sc.reset_index()"
   ]
  },
  {
   "cell_type": "markdown",
   "metadata": {
    "colab_type": "text",
    "id": "voFbyfDz6j6e"
   },
   "source": [
    "# Visualización 2D"
   ]
  },
  {
   "cell_type": "code",
   "execution_count": null,
   "metadata": {
    "colab": {
     "base_uri": "https://localhost:8080/",
     "height": 386
    },
    "colab_type": "code",
    "id": "SmDeB2wFFwnF",
    "outputId": "bdd5d3e6-f5ec-413f-df48-39e5478dc5e4"
   },
   "outputs": [],
   "source": [
    "tsne = pd.DataFrame(TSNE(n_components=2).fit_transform(X), columns=['n1', 'n2'])\n",
    "tsne['y'] = y\n",
    "sns.lmplot(data=tsne, x='n1', y='n2', hue='y', fit_reg=False)"
   ]
  },
  {
   "cell_type": "code",
   "execution_count": null,
   "metadata": {
    "colab": {
     "base_uri": "https://localhost:8080/",
     "height": 386
    },
    "colab_type": "code",
    "id": "jso_YSqC7MVZ",
    "outputId": "17410e78-a636-4bc3-92ce-2bb9312717ed"
   },
   "outputs": [],
   "source": [
    "mds = pd.DataFrame(MDS(n_components=2).fit_transform(X), columns=['d1', 'd2'])\n",
    "mds['y'] = y\n",
    "sns.lmplot(data=mds, x='d1', y='d2', hue='y', fit_reg=False)"
   ]
  },
  {
   "cell_type": "code",
   "execution_count": null,
   "metadata": {
    "colab": {
     "base_uri": "https://localhost:8080/",
     "height": 404
    },
    "colab_type": "code",
    "id": "LQSCLek07pEk",
    "outputId": "cafb988e-1a52-481c-c39d-46cc98e7539e"
   },
   "outputs": [],
   "source": [
    "Xpca = StandardScaler().fit_transform(X)\n",
    "pca = PCA(n_components=2).fit(Xpca)\n",
    "print(pca.explained_variance_ratio_.cumsum())\n",
    "pca = pd.DataFrame(pca.transform(Xpca), columns=['c1', 'c2'])\n",
    "pca['y'] = y\n",
    "sns.lmplot(data=pca, x='c1', y='c2', hue='y', fit_reg=False)"
   ]
  },
  {
   "cell_type": "code",
   "execution_count": null,
   "metadata": {
    "colab": {},
    "colab_type": "code",
    "id": "gOtpSYMh72o-"
   },
   "outputs": [],
   "source": []
  }
 ],
 "metadata": {
  "colab": {
   "collapsed_sections": [],
   "name": "HR Employee Attrition - WOE & IV",
   "provenance": []
  },
  "kernelspec": {
   "display_name": "Python 3",
   "language": "python",
   "name": "python3"
  },
  "language_info": {
   "codemirror_mode": {
    "name": "ipython",
    "version": 3
   },
   "file_extension": ".py",
   "mimetype": "text/x-python",
   "name": "python",
   "nbconvert_exporter": "python",
   "pygments_lexer": "ipython3",
   "version": "3.7.5"
  }
 },
 "nbformat": 4,
 "nbformat_minor": 1
}
